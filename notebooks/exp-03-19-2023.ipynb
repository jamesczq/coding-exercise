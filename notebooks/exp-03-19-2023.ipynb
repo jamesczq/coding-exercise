{
 "cells": [
  {
   "cell_type": "code",
   "execution_count": 1,
   "id": "e46a66f3",
   "metadata": {},
   "outputs": [],
   "source": [
    "# Exercise: class, inheritance"
   ]
  },
  {
   "cell_type": "code",
   "execution_count": 10,
   "id": "8c5eed14",
   "metadata": {},
   "outputs": [],
   "source": [
    "class Progression():\n",
    "    def __init__(self, start=0):\n",
    "        self.current = start\n",
    "    \n",
    "    def _advance(self):\n",
    "        self.current += 1\n",
    "    \n",
    "    def __next__(self):\n",
    "        if self.current is None:\n",
    "            raise StopIteration()\n",
    "        else:\n",
    "            answer = self.current\n",
    "            self._advance()\n",
    "            return answer\n",
    "    \n",
    "    def __iter__(self):\n",
    "        return self\n",
    "    \n",
    "    def get_n_th(self, n, long_form=True):\n",
    "        arr_out = [int(next(self)) for j in range((n))]\n",
    "        if long_form:\n",
    "            return arr_out\n",
    "        else:\n",
    "            return arr_out[-1]"
   ]
  },
  {
   "cell_type": "code",
   "execution_count": 15,
   "id": "33d80991",
   "metadata": {},
   "outputs": [
    {
     "data": {
      "text/plain": [
       "[1, 2, 3, 4, 5, 6, 7, 8, 9, 10]"
      ]
     },
     "execution_count": 15,
     "metadata": {},
     "output_type": "execute_result"
    }
   ],
   "source": [
    "Progression(1).get_n_th(10)"
   ]
  },
  {
   "cell_type": "code",
   "execution_count": 14,
   "id": "41411f29",
   "metadata": {},
   "outputs": [],
   "source": [
    "class ArithmeticProgression(Progression):\n",
    "    def __init__(self, start=0, increment=1):\n",
    "        super().__init__(start)\n",
    "        self.incr = increment\n",
    "    \n",
    "    def _advance(self):\n",
    "        self.current += self.incr"
   ]
  },
  {
   "cell_type": "code",
   "execution_count": 16,
   "id": "09e0609a",
   "metadata": {},
   "outputs": [
    {
     "data": {
      "text/plain": [
       "[1, 3, 5, 7, 9, 11, 13, 15, 17, 19]"
      ]
     },
     "execution_count": 16,
     "metadata": {},
     "output_type": "execute_result"
    }
   ],
   "source": [
    "ArithmeticProgression(start=1, increment=2).get_n_th(10)"
   ]
  },
  {
   "cell_type": "code",
   "execution_count": 19,
   "id": "312d63d0",
   "metadata": {},
   "outputs": [],
   "source": [
    "class GeometricProgression(Progression):\n",
    "    def __init__(self, start=1, base=2):\n",
    "        super().__init__(start)\n",
    "        self.base = base\n",
    "    \n",
    "    def _advance(self):\n",
    "        self.current *= self.base"
   ]
  },
  {
   "cell_type": "code",
   "execution_count": 20,
   "id": "6e1c1570",
   "metadata": {},
   "outputs": [
    {
     "data": {
      "text/plain": [
       "[2, 4, 8, 16, 32, 64, 128, 256, 512, 1024]"
      ]
     },
     "execution_count": 20,
     "metadata": {},
     "output_type": "execute_result"
    }
   ],
   "source": [
    "GeometricProgression(start=2, base=2).get_n_th(10)"
   ]
  },
  {
   "cell_type": "code",
   "execution_count": 21,
   "id": "2d485c94",
   "metadata": {},
   "outputs": [],
   "source": [
    "class FibonacciProgression(Progression):\n",
    "    def __init__(self, first=0, second=1):\n",
    "        super().__init__(first)\n",
    "        self.prev = second - first\n",
    "    \n",
    "    def _advance(self):\n",
    "        self.prev, self.current = self.current, self.prev + self.current"
   ]
  },
  {
   "cell_type": "code",
   "execution_count": 24,
   "id": "ed502d43",
   "metadata": {},
   "outputs": [
    {
     "data": {
      "text/plain": [
       "[1,\n",
       " 2,\n",
       " 3,\n",
       " 5,\n",
       " 8,\n",
       " 13,\n",
       " 21,\n",
       " 34,\n",
       " 55,\n",
       " 89,\n",
       " 144,\n",
       " 233,\n",
       " 377,\n",
       " 610,\n",
       " 987,\n",
       " 1597,\n",
       " 2584,\n",
       " 4181,\n",
       " 6765,\n",
       " 10946]"
      ]
     },
     "execution_count": 24,
     "metadata": {},
     "output_type": "execute_result"
    }
   ],
   "source": [
    "FibonacciProgression(first=1, second=2).get_n_th(20)"
   ]
  },
  {
   "cell_type": "code",
   "execution_count": null,
   "id": "209b49a9",
   "metadata": {},
   "outputs": [],
   "source": []
  }
 ],
 "metadata": {
  "kernelspec": {
   "display_name": "Python 3 (ipykernel)",
   "language": "python",
   "name": "python3"
  },
  "language_info": {
   "codemirror_mode": {
    "name": "ipython",
    "version": 3
   },
   "file_extension": ".py",
   "mimetype": "text/x-python",
   "name": "python",
   "nbconvert_exporter": "python",
   "pygments_lexer": "ipython3",
   "version": "3.9.13"
  }
 },
 "nbformat": 4,
 "nbformat_minor": 5
}
