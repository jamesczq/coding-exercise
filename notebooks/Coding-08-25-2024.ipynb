{
 "cells": [
  {
   "cell_type": "code",
   "execution_count": 2,
   "metadata": {},
   "outputs": [],
   "source": [
    "from typing import List, Union"
   ]
  },
  {
   "cell_type": "markdown",
   "metadata": {},
   "source": [
    "# First recurrent number\n",
    "\n",
    "Given array = [2, 5, 1, 2, 3, 5, 1, 2, 4], it should return 2\n",
    "\n",
    "Given array = [2, 1, 1, 2, 3, 5, 1, 2, 4], it should return 1\n",
    "\n",
    "Given array = [2, 3, 4, 5], it should return None"
   ]
  },
  {
   "cell_type": "code",
   "execution_count": 12,
   "metadata": {},
   "outputs": [],
   "source": [
    "class Solution:\n",
    "    def first_recurrent(self, arr: List[int]) -> Union[int, None]:\n",
    "        lookup = {arr[0]:1}\n",
    "        for i in range(1, len(arr)):\n",
    "            if arr[i] in lookup:\n",
    "                return arr[i]\n",
    "            else:\n",
    "                lookup[arr[i]] = 1\n",
    "        return None "
   ]
  },
  {
   "cell_type": "code",
   "execution_count": 13,
   "metadata": {},
   "outputs": [],
   "source": [
    "sol = Solution()"
   ]
  },
  {
   "cell_type": "code",
   "execution_count": 14,
   "metadata": {},
   "outputs": [
    {
     "data": {
      "text/plain": [
       "(2, 1, None)"
      ]
     },
     "execution_count": 14,
     "metadata": {},
     "output_type": "execute_result"
    }
   ],
   "source": [
    "(\n",
    "    sol.first_recurrent([2, 5, 1, 2, 3, 5, 1, 2, 4]),\n",
    "    sol.first_recurrent([2, 1, 1, 2, 3, 5, 1, 2, 4]),\n",
    "    sol.first_recurrent([2,3,4,5])\n",
    ")"
   ]
  },
  {
   "cell_type": "markdown",
   "metadata": {},
   "source": [
    "# Intersection between two sorted arrays\n",
    "\n",
    "The input arrays may have duplicate entries but the returned array should be free of duplicates.\n",
    "\n",
    "Example: Intersection(\n",
    "    [2, 3, 3, 5, 5, 6, 7, 7, 8, 12],\n",
    "    [5, 5, 6, 8, 8, 9, 10, 10]) = [5, 6, 8]"
   ]
  },
  {
   "cell_type": "code",
   "execution_count": 15,
   "metadata": {},
   "outputs": [],
   "source": [
    "class Solution:\n",
    "    def intersection(self, arr1:List[int], arr2:List[int]) -> List[int]:\n",
    "        arr_out = []\n",
    "        i, j = 0, 0\n",
    "        while i < len(arr1) and j < len(arr2):\n",
    "            if arr1[i] == arr2[j]:\n",
    "                if i == 0 or arr1[i] != arr1[i-1]:\n",
    "                    arr_out.append(arr1[i])\n",
    "                i += 1\n",
    "                j += 1\n",
    "            elif arr1[i] < arr2[j]:\n",
    "                i += 1\n",
    "            else: # arr1[i] > arr2[j]\n",
    "                j += 1\n",
    "        return arr_out "
   ]
  },
  {
   "cell_type": "code",
   "execution_count": 16,
   "metadata": {},
   "outputs": [],
   "source": [
    "sol = Solution()"
   ]
  },
  {
   "cell_type": "code",
   "execution_count": 17,
   "metadata": {},
   "outputs": [
    {
     "data": {
      "text/plain": [
       "[5, 6, 8]"
      ]
     },
     "execution_count": 17,
     "metadata": {},
     "output_type": "execute_result"
    }
   ],
   "source": [
    "sol.intersection([2, 3, 3, 5, 5, 6, 7, 7, 8, 12], [5, 5, 6, 8, 8, 9, 10, 10])"
   ]
  },
  {
   "cell_type": "code",
   "execution_count": null,
   "metadata": {},
   "outputs": [],
   "source": []
  }
 ],
 "metadata": {
  "kernelspec": {
   "display_name": "torchllm",
   "language": "python",
   "name": "python3"
  },
  "language_info": {
   "codemirror_mode": {
    "name": "ipython",
    "version": 3
   },
   "file_extension": ".py",
   "mimetype": "text/x-python",
   "name": "python",
   "nbconvert_exporter": "python",
   "pygments_lexer": "ipython3",
   "version": "3.11.6"
  }
 },
 "nbformat": 4,
 "nbformat_minor": 2
}
