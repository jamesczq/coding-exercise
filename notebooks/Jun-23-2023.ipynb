{
 "cells": [
  {
   "cell_type": "code",
   "execution_count": 12,
   "id": "120c715a",
   "metadata": {},
   "outputs": [],
   "source": [
    "from typing import List"
   ]
  },
  {
   "cell_type": "code",
   "execution_count": 1,
   "id": "d242454e",
   "metadata": {},
   "outputs": [],
   "source": [
    "# Problem: Longest substring without repeating characters"
   ]
  },
  {
   "cell_type": "code",
   "execution_count": 7,
   "id": "0dd5deac",
   "metadata": {},
   "outputs": [],
   "source": [
    "def f(s:str) -> str:\n",
    "    chars = [0]*128\n",
    "    i, j = 0, 0\n",
    "    while j < len(s):\n",
    "        right = s[j]\n",
    "        chars[ord(right)] += 1\n",
    "        while chars[ord(right)] > 1:\n",
    "            left = s[i]\n",
    "            chars[ord(left)] -= 1\n",
    "            i += 1\n",
    "        j += 1\n",
    "    return s[i:j]"
   ]
  },
  {
   "cell_type": "code",
   "execution_count": 10,
   "id": "4ecf27dc",
   "metadata": {},
   "outputs": [
    {
     "data": {
      "text/plain": [
       "('abcde', 'kew', '{}')"
      ]
     },
     "execution_count": 10,
     "metadata": {},
     "output_type": "execute_result"
    }
   ],
   "source": [
    "f(\"abcdabcde\"), f(\"pwwkew\"), f(\"{}\"*5)"
   ]
  },
  {
   "cell_type": "code",
   "execution_count": 11,
   "id": "7f4fd89d",
   "metadata": {},
   "outputs": [],
   "source": [
    "# Problem: Longest subarray that sums to zero.\n",
    "# Example:\n",
    "# arr = [15, -2, 2, -8, 1, 7, 10, 23]\n",
    "# Ouput: the longest subarray summing to 0 is [-2, 2, -8, 1, 7]"
   ]
  },
  {
   "cell_type": "code",
   "execution_count": 21,
   "id": "a1196f9e",
   "metadata": {},
   "outputs": [],
   "source": [
    "def f(arr:List[int]):\n",
    "    hashmap = dict()\n",
    "    max_len = 0\n",
    "    curr_sum = 0\n",
    "    max_subarr = (0,0)\n",
    "    for i in range(len(arr)):\n",
    "        curr_sum += arr[i]\n",
    "        \n",
    "        if arr[i]==0 and max_len==0:\n",
    "            max_len = 1\n",
    "        \n",
    "        if curr_sum == 0:\n",
    "            max_len = 1\n",
    "        \n",
    "        if curr_sum in hashmap:\n",
    "            if max_len < i - hashmap[curr_sum]:\n",
    "                max_len = i - hashmap[curr_sum]\n",
    "                max_subarr = (hashmap[curr_sum]+1, i)\n",
    "        else:\n",
    "            hashmap[curr_sum] = i\n",
    "        \n",
    "    return max_subarr"
   ]
  },
  {
   "cell_type": "code",
   "execution_count": 23,
   "id": "0c19134c",
   "metadata": {},
   "outputs": [
    {
     "data": {
      "text/plain": [
       "(1, 5)"
      ]
     },
     "execution_count": 23,
     "metadata": {},
     "output_type": "execute_result"
    }
   ],
   "source": [
    "arr = [15, -2, 2, -8, 1, 7, 10, 13]\n",
    "f(arr)"
   ]
  },
  {
   "cell_type": "code",
   "execution_count": 27,
   "id": "24063dbc",
   "metadata": {},
   "outputs": [
    {
     "data": {
      "text/plain": [
       "(1, 11)"
      ]
     },
     "execution_count": 27,
     "metadata": {},
     "output_type": "execute_result"
    }
   ],
   "source": [
    "arr = [0, -2, 2, -8, 1, 7, 0, 23, -11, -1, -12, 1]\n",
    "f(arr)"
   ]
  },
  {
   "cell_type": "code",
   "execution_count": null,
   "id": "bb281547",
   "metadata": {},
   "outputs": [],
   "source": []
  }
 ],
 "metadata": {
  "kernelspec": {
   "display_name": "Python 3 (ipykernel)",
   "language": "python",
   "name": "python3"
  },
  "language_info": {
   "codemirror_mode": {
    "name": "ipython",
    "version": 3
   },
   "file_extension": ".py",
   "mimetype": "text/x-python",
   "name": "python",
   "nbconvert_exporter": "python",
   "pygments_lexer": "ipython3",
   "version": "3.10.9"
  }
 },
 "nbformat": 4,
 "nbformat_minor": 5
}
