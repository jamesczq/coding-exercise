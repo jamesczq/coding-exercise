{
 "cells": [
  {
   "cell_type": "code",
   "execution_count": 1,
   "id": "d706d196",
   "metadata": {},
   "outputs": [],
   "source": [
    "import re\n",
    "import numpy as np"
   ]
  },
  {
   "cell_type": "code",
   "execution_count": 2,
   "id": "384be03a",
   "metadata": {},
   "outputs": [],
   "source": [
    "from typing import List, Tuple"
   ]
  },
  {
   "cell_type": "code",
   "execution_count": 3,
   "id": "7d6d3cf1",
   "metadata": {},
   "outputs": [],
   "source": [
    "WORD = re.compile(r'\\w+')"
   ]
  },
  {
   "cell_type": "code",
   "execution_count": 4,
   "id": "9e151d73",
   "metadata": {},
   "outputs": [],
   "source": [
    "def regTokenize(text):\n",
    "    words = WORD.findall(text)\n",
    "    return words"
   ]
  },
  {
   "cell_type": "code",
   "execution_count": 5,
   "id": "457c1a88",
   "metadata": {},
   "outputs": [],
   "source": [
    "def sim(text1: str, text2: str) -> float:\n",
    "    set1 = set(regTokenize(text1))\n",
    "    set2 = set(regTokenize(text2))\n",
    "    return 2*len(set1.intersection(set2))/(len(set1) + len(set2)) "
   ]
  },
  {
   "cell_type": "code",
   "execution_count": 6,
   "id": "0e90f85a",
   "metadata": {},
   "outputs": [],
   "source": [
    "mylist = [\n",
    "    \"Apple’s M-series processors are a hit. They deliver spectacular performance and power efficiency—so much so that they instantly caused a huge shakeup in Intel and AMD processors that suddenly found themselves looking slow, hot, and power-hungry.\",\n",
    "    \"The inaugural M1 chip revitalized the MacBook and brought us the first exciting desktop Macs in years, including a redesigned iMac and brand-new Mac Studio. But since then? The MacBooks are still keeping pace, but desktop Macs are being left behind.\",\n",
    "    \"Let’s start with the iMac. Updated to a new design and a single, 24-inch size just about two years ago, it’s got an M1 chip. It’s been 10 months since the M2 was released–why does the 24-inch iMac still come with an M1? Why does it still cost $1,299, just as it did two years ago?\",\n",
    "    \"Apple should have updated all M1-bearing products simultaneously when the M2 came out. There’s little excuse to sell products that haven’t changed for two years without so much as a price adjustment. (In fact, if you live outside the U.S. the price of iMacs has actually gone up!)\",\n",
    "    \"The Mac mini took a little longer to get its M2 update because Apple was waiting for the M2 Pro to be ready, offering that as an option. The M2 Pro and M2 Max landed early this year in the MacBook, and Apple dutifully updated the old Mac mini to M2 and M2 Pro.\",\n",
    "]"
   ]
  },
  {
   "cell_type": "code",
   "execution_count": 7,
   "id": "c5d68030",
   "metadata": {},
   "outputs": [
    {
     "data": {
      "text/plain": [
       "(list, str, 5)"
      ]
     },
     "execution_count": 7,
     "metadata": {},
     "output_type": "execute_result"
    }
   ],
   "source": [
    "type(mylist), type(mylist[0]), len(mylist)"
   ]
  },
  {
   "cell_type": "code",
   "execution_count": 8,
   "id": "d510dcf3",
   "metadata": {},
   "outputs": [],
   "source": [
    "def get_sim_matrix(list_of_texts:List[str]) -> np.ndarray:\n",
    "    n = len(list_of_texts)\n",
    "    X = np.zeros((n, n))\n",
    "    for i in range(n):\n",
    "        X[i, i] = 1.0\n",
    "        for j in range(i+1, n):\n",
    "            X[i, j] = sim(list_of_texts[i], list_of_texts[j])\n",
    "            X[j, i] = X[i, j]\n",
    "    return X"
   ]
  },
  {
   "cell_type": "code",
   "execution_count": 9,
   "id": "6601ba04",
   "metadata": {},
   "outputs": [
    {
     "data": {
      "text/plain": [
       "array([[1.        , 0.11594203, 0.07792208, 0.14814815, 0.14285714],\n",
       "       [0.11594203, 1.        , 0.25      , 0.0952381 , 0.19178082],\n",
       "       [0.07792208, 0.25      , 1.        , 0.19565217, 0.19753086],\n",
       "       [0.14814815, 0.0952381 , 0.19565217, 1.        , 0.23529412],\n",
       "       [0.14285714, 0.19178082, 0.19753086, 0.23529412, 1.        ]])"
      ]
     },
     "execution_count": 9,
     "metadata": {},
     "output_type": "execute_result"
    }
   ],
   "source": [
    "X = get_sim_matrix(mylist)\n",
    "X"
   ]
  },
  {
   "cell_type": "code",
   "execution_count": 10,
   "id": "5672468a",
   "metadata": {},
   "outputs": [],
   "source": [
    "def get_k_smallest(X: np.ndarray, k: int) -> List[Tuple[int, int, float]]:\n",
    "    A = X.copy()\n",
    "    A[np.diag_indices_from(A)] = np.Inf\n",
    "    A[np.tril_indices_from(A)] = np.Inf\n",
    "    r,c = np.unravel_index(A.ravel().argsort()[:k], A.shape)\n",
    "    return list(zip(r, c, A[r, c]))"
   ]
  },
  {
   "cell_type": "code",
   "execution_count": 11,
   "id": "2abd21ec",
   "metadata": {},
   "outputs": [],
   "source": [
    "def get_k_largest(X: np.ndarray, k: int) -> List[Tuple[int, int, float]]:\n",
    "    A = X.copy()\n",
    "    A[np.diag_indices_from(A)] = -np.Inf\n",
    "    A[np.tril_indices_from(A)] = -np.Inf\n",
    "    r,c = np.unravel_index((-A).ravel().argsort()[:k], A.shape)\n",
    "    return list(zip(r, c, A[r, c]))"
   ]
  },
  {
   "cell_type": "code",
   "execution_count": 12,
   "id": "20cf705e",
   "metadata": {},
   "outputs": [
    {
     "data": {
      "text/plain": [
       "[(0, 2, 0.07792207792207792),\n",
       " (1, 3, 0.09523809523809523),\n",
       " (0, 1, 0.11594202898550725)]"
      ]
     },
     "execution_count": 12,
     "metadata": {},
     "output_type": "execute_result"
    }
   ],
   "source": [
    "get_k_smallest(X, 3)"
   ]
  },
  {
   "cell_type": "code",
   "execution_count": 13,
   "id": "29ca2bbe",
   "metadata": {},
   "outputs": [
    {
     "data": {
      "text/plain": [
       "[(1, 2, 0.25), (3, 4, 0.23529411764705882), (2, 4, 0.19753086419753085)]"
      ]
     },
     "execution_count": 13,
     "metadata": {},
     "output_type": "execute_result"
    }
   ],
   "source": [
    "mytuple = get_k_largest(X, 3)\n",
    "mytuple"
   ]
  },
  {
   "cell_type": "code",
   "execution_count": 14,
   "id": "fb6bfa5b",
   "metadata": {},
   "outputs": [],
   "source": [
    "def find_k_most_similar_texts(list_of_texts:List[str], k:int) -> list[str]:\n",
    "    X = get_sim_matrix(list_of_texts)\n",
    "    k_similar_indices = get_k_largest(X, k)\n",
    "    row_idx = [i[0] for i in k_similar_indices]\n",
    "    col_idx = [i[1] for i in k_similar_indices]\n",
    "    sim_indices = set(row_idx).union(set(col_idx))\n",
    "    return sim_indices"
   ]
  },
  {
   "cell_type": "code",
   "execution_count": 15,
   "id": "7e5e1a8d",
   "metadata": {},
   "outputs": [
    {
     "data": {
      "text/plain": [
       "{1, 2, 3, 4}"
      ]
     },
     "execution_count": 15,
     "metadata": {},
     "output_type": "execute_result"
    }
   ],
   "source": [
    "find_k_most_similar_texts(mylist, 2)"
   ]
  },
  {
   "cell_type": "code",
   "execution_count": null,
   "id": "10a057d1",
   "metadata": {},
   "outputs": [],
   "source": []
  }
 ],
 "metadata": {
  "kernelspec": {
   "display_name": "Python 3 (ipykernel)",
   "language": "python",
   "name": "python3"
  },
  "language_info": {
   "codemirror_mode": {
    "name": "ipython",
    "version": 3
   },
   "file_extension": ".py",
   "mimetype": "text/x-python",
   "name": "python",
   "nbconvert_exporter": "python",
   "pygments_lexer": "ipython3",
   "version": "3.10.9"
  }
 },
 "nbformat": 4,
 "nbformat_minor": 5
}
