{
 "cells": [
  {
   "cell_type": "markdown",
   "metadata": {},
   "source": [
    "# Anagrams\n",
    "\n",
    "Determine if two words are anagrams of each other (case-insensitive).\n",
    "\n",
    "Example:\n",
    "are_anagrams(\"python\", \"thonpy\") = True"
   ]
  },
  {
   "cell_type": "code",
   "execution_count": 35,
   "metadata": {},
   "outputs": [],
   "source": [
    "class Solution:\n",
    "    def are_anagrams(self, str1: str, str2: str) -> bool:\n",
    "        str1, str2 = str1.lower(), str2.lower()\n",
    "\n",
    "        if len(str1) != len(str2):\n",
    "            return False \n",
    "        \n",
    "        arr1 = [0 for i in range(26)]\n",
    "        arr2 = [0 for i in range(26)]\n",
    "\n",
    "        for char in str1:\n",
    "            idx = ord(char) - ord('a')\n",
    "            arr1[idx] += 1\n",
    "        \n",
    "        for char in str2:\n",
    "            idx = ord(char) - ord('a')\n",
    "            arr2[idx] += 1\n",
    "        \n",
    "        for i in range(26):\n",
    "            if arr1[i] != arr2[i]:\n",
    "                return False \n",
    "        \n",
    "        return True"
   ]
  },
  {
   "cell_type": "code",
   "execution_count": 36,
   "metadata": {},
   "outputs": [
    {
     "data": {
      "text/plain": [
       "True"
      ]
     },
     "execution_count": 36,
     "metadata": {},
     "output_type": "execute_result"
    }
   ],
   "source": [
    "sol = Solution()\n",
    "sol.are_anagrams(\"abba\", \"baba\")"
   ]
  },
  {
   "cell_type": "markdown",
   "metadata": {},
   "source": [
    "# Balanced Parentheses\n",
    "\n",
    "Write a program that tests if a string containing balanced pairs of (), [], {} that match in the correct order.\n",
    "\n",
    "For example:\n",
    "\"([]){()}\" is balanced\n",
    "\n",
    "\"[()[]{()}]\" is balanced\n",
    "\n",
    "\"{(})\" is not balanced\n",
    "\n",
    "\"[()[]{()\" is not balanced\n",
    "\n",
    "Hint: which left parenthesis does a right parenthesis match with?"
   ]
  },
  {
   "cell_type": "code",
   "execution_count": 37,
   "metadata": {},
   "outputs": [],
   "source": [
    "class Solution:\n",
    "    def is_balanced(self, s:str) -> bool:\n",
    "        PAREN_L = set([\"(\", \"[\", \"{\"])\n",
    "        PAREN_R = set([\")\", \"]\", \"}\"])\n",
    "        LOOKUP = {\"(\":\")\", \"[\":\"]\", \"{\":\"}\"}\n",
    "        left_paren = []\n",
    "        for char in s:\n",
    "            if char in PAREN_L:\n",
    "                left_paren.append(char)\n",
    "            elif char in PAREN_R:\n",
    "                if not left_paren or LOOKUP[left_paren.pop()] != char:\n",
    "                    return False \n",
    "        return not left_paren\n"
   ]
  },
  {
   "cell_type": "code",
   "execution_count": 38,
   "metadata": {},
   "outputs": [],
   "source": [
    "sol = Solution()"
   ]
  },
  {
   "cell_type": "code",
   "execution_count": 39,
   "metadata": {},
   "outputs": [
    {
     "data": {
      "text/plain": [
       "(True, False)"
      ]
     },
     "execution_count": 39,
     "metadata": {},
     "output_type": "execute_result"
    }
   ],
   "source": [
    "sol.is_balanced(\"([]){()}\"), sol.is_balanced(\"[()[]{()\")"
   ]
  },
  {
   "cell_type": "markdown",
   "metadata": {},
   "source": [
    "# Binary search, using recursion\n",
    "\n",
    "Return the index of search target in the array. If not found, return -1."
   ]
  },
  {
   "cell_type": "code",
   "execution_count": 9,
   "metadata": {},
   "outputs": [],
   "source": [
    "from typing import List"
   ]
  },
  {
   "cell_type": "code",
   "execution_count": 41,
   "metadata": {},
   "outputs": [],
   "source": [
    "class Solution:\n",
    "    def binary_search(self, arr: List[int], key: int) -> int:\n",
    "        return Solution()._bs_helper(arr, key, 0, len(arr) - 1)\n",
    "    \n",
    "    @staticmethod\n",
    "    def _bs_helper(arr: List[int], key:int, start:int, end:int) -> int:\n",
    "        if start >= end:\n",
    "            return -1\n",
    "        \n",
    "        mid = (start + end)//2\n",
    "\n",
    "        if arr[mid] > key:\n",
    "            return Solution()._bs_helper(arr, key, start, mid-1)\n",
    "        elif arr[mid] < key:\n",
    "            return Solution()._bs_helper(arr, key, mid+1, end)\n",
    "        else: # arr[mid] == key\n",
    "            return mid "
   ]
  },
  {
   "cell_type": "code",
   "execution_count": 42,
   "metadata": {},
   "outputs": [],
   "source": [
    "sol = Solution()"
   ]
  },
  {
   "cell_type": "code",
   "execution_count": 43,
   "metadata": {},
   "outputs": [
    {
     "data": {
      "text/plain": [
       "(2, -1)"
      ]
     },
     "execution_count": 43,
     "metadata": {},
     "output_type": "execute_result"
    }
   ],
   "source": [
    "sol.binary_search(arr=[1,2,3,4], key=3), sol.binary_search(arr=[1,2,3,4], key=8)"
   ]
  },
  {
   "cell_type": "markdown",
   "metadata": {},
   "source": [
    "# Delete duplicated elements from a sorted list.\n",
    "\n",
    "Example:\n",
    "[2, 3, 5, 5, 7, 11, 11, 11, 13] -> [2, 3, 5, 7, 11, 13]\n"
   ]
  },
  {
   "cell_type": "code",
   "execution_count": 36,
   "metadata": {},
   "outputs": [],
   "source": [
    "class Solution:\n",
    "    def remove_dup(self, arr:List[int], inplace=False) -> List[int]:\n",
    "        i, j = 0, 0\n",
    "        \n",
    "        if not inplace:\n",
    "            arr_out = [arr[i]]\n",
    "\n",
    "        for j in range(1, len(arr)):\n",
    "            if arr[j] == arr[j-1]:\n",
    "                if inplace:\n",
    "                    i += 1\n",
    "                    arr[j] = None\n",
    "            else:\n",
    "                i = j\n",
    "                if not inplace:\n",
    "                    arr_out.append(arr[i])\n",
    "        \n",
    "        if inplace:\n",
    "            arr = [x for x in arr if x is not None]\n",
    "        else:\n",
    "            return arr_out"
   ]
  },
  {
   "cell_type": "code",
   "execution_count": 37,
   "metadata": {},
   "outputs": [],
   "source": [
    "sol = Solution()"
   ]
  },
  {
   "cell_type": "code",
   "execution_count": 38,
   "metadata": {},
   "outputs": [
    {
     "data": {
      "text/plain": [
       "[2, 3, 5, 7, 11, None, 13, 14, None, 15]"
      ]
     },
     "execution_count": 38,
     "metadata": {},
     "output_type": "execute_result"
    }
   ],
   "source": [
    "arr = [2, 3, 5, 7, 11, 11, 13, 14, 14, 15]\n",
    "sol.remove_dup(arr, inplace=True)\n",
    "arr"
   ]
  },
  {
   "cell_type": "code",
   "execution_count": 39,
   "metadata": {},
   "outputs": [
    {
     "data": {
      "text/plain": [
       "[2, 3, 5, 7, 11, 13, 14, 15]"
      ]
     },
     "execution_count": 39,
     "metadata": {},
     "output_type": "execute_result"
    }
   ],
   "source": [
    "arr = [2, 3, 5, 7, 11, 11, 13, 14, 14, 15]\n",
    "sol.remove_dup(arr, inplace=False)"
   ]
  },
  {
   "cell_type": "code",
   "execution_count": null,
   "metadata": {},
   "outputs": [],
   "source": []
  }
 ],
 "metadata": {
  "kernelspec": {
   "display_name": "torchllm",
   "language": "python",
   "name": "python3"
  },
  "language_info": {
   "codemirror_mode": {
    "name": "ipython",
    "version": 3
   },
   "file_extension": ".py",
   "mimetype": "text/x-python",
   "name": "python",
   "nbconvert_exporter": "python",
   "pygments_lexer": "ipython3",
   "version": "3.11.6"
  }
 },
 "nbformat": 4,
 "nbformat_minor": 2
}
