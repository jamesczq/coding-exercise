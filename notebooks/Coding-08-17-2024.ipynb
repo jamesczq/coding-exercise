{
 "cells": [
  {
   "cell_type": "markdown",
   "id": "adf32f61-fd82-445d-9c01-78b4f5ae410a",
   "metadata": {},
   "source": [
    "# Top K Frequent Elements\n",
    "# M\n",
    "\n",
    "Given an integer array nums and an integer k, return the k most frequent elements. You may return the answer in any order.\n",
    "\n",
    "Example 1:\n",
    "\n",
    "Input: nums = [1,1,1,2,2,3], k = 2\n",
    "\n",
    "Output: [1,2]\n",
    "\n",
    "Example 2:\n",
    "\n",
    "Input: nums = [1], k = 1\n",
    "\n",
    "Output: [1]\n",
    " \n",
    "\n",
    "Constraints:\n",
    "\n",
    "1 <= nums.length <= 105\n",
    "\n",
    "-104 <= nums[i] <= 104\n",
    "\n",
    "k is in the range [1, the number of unique elements in the array].\n",
    "\n",
    "It is guaranteed that the answer is unique.\n",
    " \n",
    "Follow up: Your algorithm's time complexity must be better than O(n log n), where n is the array's size."
   ]
  },
  {
   "cell_type": "code",
   "execution_count": 1,
   "id": "5e6d72ba-3a5b-4933-a205-a612481a4b8f",
   "metadata": {},
   "outputs": [],
   "source": [
    "class Solution:\n",
    "    def topKFrequent(self, nums:\"List[int]\", k:int) -> \"List[int]\":\n",
    "        lookup = dict()\n",
    "        for x in nums:\n",
    "            if x in lookup:\n",
    "                lookup[x] += 1\n",
    "            else:\n",
    "                lookup[x] = 1\n",
    "\n",
    "        counts = sorted(lookup.values(), reverse=True)\n",
    "        top_k_counts = set(counts[:k])\n",
    "\n",
    "        arr_out = []\n",
    "        for k,v in lookup.items():\n",
    "            if v in top_k_counts:\n",
    "                arr_out.append(k)\n",
    "\n",
    "        return arr_out"
   ]
  },
  {
   "cell_type": "code",
   "execution_count": 5,
   "id": "edc50d52-29fd-49b0-aa5c-6b6dd8b840ef",
   "metadata": {},
   "outputs": [],
   "source": [
    "nums = [1,1,1,2,2,3,5]\n",
    "k = 2"
   ]
  },
  {
   "cell_type": "code",
   "execution_count": 6,
   "id": "51ee37f3-8b98-428e-89e7-5f8a863fe1bc",
   "metadata": {},
   "outputs": [
    {
     "data": {
      "text/plain": [
       "[1, 2]"
      ]
     },
     "execution_count": 6,
     "metadata": {},
     "output_type": "execute_result"
    }
   ],
   "source": [
    "sol = Solution()\n",
    "sol.topKFrequent(nums, k)"
   ]
  },
  {
   "cell_type": "code",
   "execution_count": null,
   "id": "e285cb93-3262-46f0-b903-6414dbff9594",
   "metadata": {},
   "outputs": [],
   "source": []
  }
 ],
 "metadata": {
  "kernelspec": {
   "display_name": "Python 3 (ipykernel)",
   "language": "python",
   "name": "python3"
  },
  "language_info": {
   "codemirror_mode": {
    "name": "ipython",
    "version": 3
   },
   "file_extension": ".py",
   "mimetype": "text/x-python",
   "name": "python",
   "nbconvert_exporter": "python",
   "pygments_lexer": "ipython3",
   "version": "3.11.6"
  }
 },
 "nbformat": 4,
 "nbformat_minor": 5
}
