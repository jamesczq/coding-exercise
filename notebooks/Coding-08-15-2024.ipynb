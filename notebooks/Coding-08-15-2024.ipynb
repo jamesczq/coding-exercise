{
 "cells": [
  {
   "cell_type": "markdown",
   "id": "7fed961c-3302-490e-84d0-b2d231511f63",
   "metadata": {},
   "source": [
    "# 08/15"
   ]
  },
  {
   "cell_type": "markdown",
   "id": "8b451bd7-0d80-4222-ac72-775f63e8b7bf",
   "metadata": {},
   "source": [
    "# Longest palindrome substring\n",
    "# M1\n",
    "\n",
    "Given a string s, return the longest \n",
    "palindromic\n",
    " \n",
    "substring\n",
    " in s.\n",
    "\n",
    " \n",
    "\n",
    "Example 1:\n",
    "\n",
    "Input: s = \"babad\"\n",
    "Output: \"bab\"\n",
    "Explanation: \"aba\" is also a valid answer.\n",
    "Example 2:\n",
    "\n",
    "Input: s = \"cbbd\"\n",
    "Output: \"bb\"\n",
    " \n",
    "\n",
    "Constraints:\n",
    "\n",
    "1 <= s.length <= 1000\n",
    "s consist of only digits and English letters."
   ]
  },
  {
   "cell_type": "code",
   "execution_count": 1,
   "id": "d6d7ef0d-7e37-4e6d-99f9-d39079fec6f0",
   "metadata": {},
   "outputs": [],
   "source": [
    "class Solution:\n",
    "    def longest_palindrome(self, s:str) -> str:\n",
    "        def check(i,j):\n",
    "            left, right = i, j-1\n",
    "            while left < right:\n",
    "                if s[left] != s[right]:\n",
    "                    return False\n",
    "                left += 1\n",
    "                right -= 1\n",
    "            return True\n",
    "\n",
    "        for length in range(len(s), 0, -1):\n",
    "            for start in range(len(s) - length + 1):\n",
    "                if check(start, start + length):\n",
    "                    return s[start : start + length]\n",
    "        \n",
    "        return \"\""
   ]
  },
  {
   "cell_type": "code",
   "execution_count": 2,
   "id": "1cb60cd3-b879-4521-a291-faddadec2f24",
   "metadata": {},
   "outputs": [],
   "source": [
    "sol = Solution()"
   ]
  },
  {
   "cell_type": "code",
   "execution_count": 3,
   "id": "8567319e-9233-4ec1-90bb-08c20efe5689",
   "metadata": {},
   "outputs": [
    {
     "data": {
      "text/plain": [
       "'bab'"
      ]
     },
     "execution_count": 3,
     "metadata": {},
     "output_type": "execute_result"
    }
   ],
   "source": [
    "sol.longest_palindrome('babad')"
   ]
  },
  {
   "cell_type": "code",
   "execution_count": 4,
   "id": "a140f6f1-70a5-449c-bfda-92e7ec54c9fe",
   "metadata": {},
   "outputs": [
    {
     "data": {
      "text/plain": [
       "'bb'"
      ]
     },
     "execution_count": 4,
     "metadata": {},
     "output_type": "execute_result"
    }
   ],
   "source": [
    "sol.longest_palindrome('cbbd')"
   ]
  },
  {
   "cell_type": "markdown",
   "id": "d449974d-335e-41f8-b283-9d22bab2658f",
   "metadata": {},
   "source": [
    "# Find the index of the first occurrence in a string\n",
    "# EZ1\n",
    "\n",
    "Given two strings needle and haystack, return the index of the first occurrence of needle in haystack, or -1 if needle is not part of haystack.\n",
    "\n",
    " \n",
    "\n",
    "Example 1:\n",
    "\n",
    "Input: haystack = \"sadbutsad\", needle = \"sad\"\n",
    "\n",
    "Output: 0\n",
    "\n",
    "Explanation: \"sad\" occurs at index 0 and 6.\n",
    "The first occurrence is at index 0, so we return 0.\n",
    "\n",
    "Example 2:\n",
    "\n",
    "Input: haystack = \"leetcode\", needle = \"leeto\"\n",
    "\n",
    "Output: -1\n",
    "\n",
    "Explanation: \"leeto\" did not occur in \"leetcode\", so we return -1.\n",
    " \n",
    "Constraints:\n",
    "\n",
    "1 <= haystack.length, needle.length <= 104\n",
    "\n",
    "haystack and needle consist of only lowercase English characters."
   ]
  },
  {
   "cell_type": "code",
   "execution_count": 5,
   "id": "9f50247a-1989-4b54-ab5b-3d2c4f837fc2",
   "metadata": {},
   "outputs": [],
   "source": [
    "needle1 = \"sad\"\n",
    "haystack1 = \"sadbutsad\"\n",
    "\n",
    "needle2 = \"leeto\"\n",
    "haystack2 = \"leetcode\""
   ]
  },
  {
   "cell_type": "code",
   "execution_count": 6,
   "id": "beeee9c1-abfc-41dd-a8c9-769d2af65bb3",
   "metadata": {},
   "outputs": [],
   "source": [
    "class Solution:\n",
    "    def is_found(self, needle:str, haystack:str) -> bool:\n",
    "        if not needle in haystack:\n",
    "            return -1\n",
    "        return haystack.index(needle)"
   ]
  },
  {
   "cell_type": "code",
   "execution_count": 7,
   "id": "a8da0c23-dfe0-49fa-9592-0dd44037ed37",
   "metadata": {},
   "outputs": [],
   "source": [
    "sol = Solution()"
   ]
  },
  {
   "cell_type": "code",
   "execution_count": 8,
   "id": "5bd7083b-f74c-49d7-af49-6c0fd9c1feec",
   "metadata": {},
   "outputs": [
    {
     "data": {
      "text/plain": [
       "0"
      ]
     },
     "execution_count": 8,
     "metadata": {},
     "output_type": "execute_result"
    }
   ],
   "source": [
    "sol.is_found(needle1, haystack1)"
   ]
  },
  {
   "cell_type": "code",
   "execution_count": 9,
   "id": "8e661783-5161-47ff-b36d-261e1de01fde",
   "metadata": {},
   "outputs": [
    {
     "data": {
      "text/plain": [
       "-1"
      ]
     },
     "execution_count": 9,
     "metadata": {},
     "output_type": "execute_result"
    }
   ],
   "source": [
    "sol.is_found(needle2, haystack2)"
   ]
  },
  {
   "cell_type": "code",
   "execution_count": 10,
   "id": "510cfb42-586a-4c22-9b4e-3b8f5a373f35",
   "metadata": {},
   "outputs": [
    {
     "data": {
      "text/plain": [
       "-1"
      ]
     },
     "execution_count": 10,
     "metadata": {},
     "output_type": "execute_result"
    }
   ],
   "source": [
    "sol.is_found(needle1, haystack2)"
   ]
  },
  {
   "cell_type": "markdown",
   "id": "8ec2f3c1-8b9b-4eb0-8543-a172ea0a5270",
   "metadata": {},
   "source": [
    "# Find first and last positions of element in a sorted array\n",
    "# M2\n",
    "\n",
    "Given an array of integers nums sorted in non-decreasing order, find the starting and ending positions of a given target value.\n",
    "\n",
    "If target is not found in the array, return [-1, -1].\n",
    "\n",
    "You must write an algorithm with O(log n) runtime complexity.\n",
    "\n",
    " \n",
    "\n",
    "Example 1:\n",
    "\n",
    "Input: nums = [5,7,7,8,8,10], target = 8\n",
    "\n",
    "Output: [3,4]\n",
    "\n",
    "Example 2:\n",
    "\n",
    "Input: nums = [5,7,7,8,8,10], target = 6\n",
    "\n",
    "Output: [-1,-1]\n",
    "\n",
    "Example 3:\n",
    "\n",
    "Input: nums = [], target = 0\n",
    "\n",
    "Output: [-1,-1]\n",
    " \n",
    "\n",
    "Constraints:\n",
    "\n",
    "0 <= nums.length <= 105\n",
    "\n",
    "-109 <= nums[i] <= 109\n",
    "\n",
    "nums is a non-decreasing array.\n",
    "\n",
    "-109 <= target <= 109"
   ]
  },
  {
   "cell_type": "code",
   "execution_count": 11,
   "id": "687b2b04-dc94-4dd4-9179-efb58548d9f2",
   "metadata": {},
   "outputs": [],
   "source": [
    "from bisect import bisect_left"
   ]
  },
  {
   "cell_type": "code",
   "execution_count": 12,
   "id": "28a56486-99c8-4ed0-8ec7-b50eb192564d",
   "metadata": {},
   "outputs": [],
   "source": [
    "class Solution:\n",
    "    def first_last_positions(self, x, arr) -> int:\n",
    "        i1 = bisect_left(arr, x)\n",
    "        if i1 == len(arr):\n",
    "            return [-1, -1]\n",
    "        if arr[i1] != x:\n",
    "            return [-1, -1]\n",
    "\n",
    "        subarr = arr[i1 + 1:]\n",
    "        i2 = bisect_left(subarr, x)\n",
    "        if i2 == len(subarr):\n",
    "            return [i1, i1]\n",
    "        if subarr[i2] != x:\n",
    "            return [i1, i1]\n",
    "        \n",
    "        return [i1, i1+1+i2]"
   ]
  },
  {
   "cell_type": "code",
   "execution_count": 13,
   "id": "f8fbc99b-cfaa-4ccb-98f6-179e51b245c8",
   "metadata": {},
   "outputs": [],
   "source": [
    "sol = Solution()"
   ]
  },
  {
   "cell_type": "code",
   "execution_count": 14,
   "id": "26d9852f-cf91-4aef-acae-855da7d0b5a7",
   "metadata": {},
   "outputs": [
    {
     "data": {
      "text/plain": [
       "[3, 4]"
      ]
     },
     "execution_count": 14,
     "metadata": {},
     "output_type": "execute_result"
    }
   ],
   "source": [
    "arr1 = [5,7,7,8,8,10]\n",
    "target1 = 8 \n",
    "\n",
    "sol.first_last_positions(target1, arr1)"
   ]
  },
  {
   "cell_type": "code",
   "execution_count": 15,
   "id": "30f6fc75-4d79-4015-999b-d2484f9d182c",
   "metadata": {},
   "outputs": [
    {
     "data": {
      "text/plain": [
       "[5, 5]"
      ]
     },
     "execution_count": 15,
     "metadata": {},
     "output_type": "execute_result"
    }
   ],
   "source": [
    "arr2 = [5,7,7,8,8,10]\n",
    "target2 = 10\n",
    "#target2 = 7\n",
    "\n",
    "sol.first_last_positions(target2, arr2)"
   ]
  },
  {
   "cell_type": "markdown",
   "id": "4675f149-9656-468e-9797-ece44f385294",
   "metadata": {},
   "source": [
    "# Search insert position\n",
    "# EZ2\n",
    "\n",
    "Given a sorted array of distinct integers and a target value, return the index if the target is found. If not, return the index where it would be if it were inserted in order.\n",
    "\n",
    "You must write an algorithm with O(log n) runtime complexity.\n",
    "\n",
    "Example 1:\n",
    "\n",
    "Input: nums = [1,3,5,6], target = 5\n",
    "\n",
    "Output: 2\n",
    "\n",
    "Example 2:\n",
    "\n",
    "Input: nums = [1,3,5,6], target = 2\n",
    "\n",
    "Output: 1\n",
    "\n",
    "Example 3:\n",
    "\n",
    "Input: nums = [1,3,5,6], target = 7\n",
    "\n",
    "Output: 4\n",
    "\n",
    " \n",
    "Constraints:\n",
    "\n",
    "1 <= nums.length <= 104\n",
    "\n",
    "-104 <= nums[i] <= 104\n",
    "\n",
    "nums contains distinct values sorted in ascending order.\n",
    "\n",
    "-104 <= target <= 104"
   ]
  },
  {
   "cell_type": "code",
   "execution_count": 16,
   "id": "48de000e-df6f-4abe-ae8c-13d2b890f59e",
   "metadata": {},
   "outputs": [],
   "source": [
    "class Solution:\n",
    "    def search_insert(self, target, arr):\n",
    "        def binary_search(left:int, right:int) -> int:\n",
    "            if left > right:\n",
    "                return left\n",
    "                \n",
    "            mid = (left + right) // 2\n",
    "            \n",
    "            if arr[mid] < target:\n",
    "                return binary_search(mid + 1, right)\n",
    "            elif arr[mid] > target:\n",
    "                return binary_search(left, mid - 1)\n",
    "            else: # arr[mid] == target\n",
    "                return mid\n",
    "                \n",
    "        return binary_search(0, len(arr)-1)"
   ]
  },
  {
   "cell_type": "code",
   "execution_count": 17,
   "id": "0fd285c9-a0ea-4e33-b112-60e24546679c",
   "metadata": {},
   "outputs": [
    {
     "data": {
      "text/plain": [
       "1"
      ]
     },
     "execution_count": 17,
     "metadata": {},
     "output_type": "execute_result"
    }
   ],
   "source": [
    "arr1 = [1,3,5,6]\n",
    "target1 = 7\n",
    "target1 = 2\n",
    "\n",
    "sol = Solution()\n",
    "sol.search_insert(target1, arr1)"
   ]
  },
  {
   "cell_type": "markdown",
   "id": "3689ee2e-c0c4-40ab-b96a-1bf57e81f752",
   "metadata": {},
   "source": [
    "# Letter combinations of a phone number\n",
    "# M3\n",
    "\n",
    "Given a string containing digits from 2-9 inclusive, return all possible letter combinations that the number could represent. Return the answer in any order.\n",
    "\n",
    "A mapping of digits to letters (just like on the telephone buttons) is given below. Note that 1 does not map to any letters.\n",
    "\n",
    "{'2':'abc','3':'def','4':'ghi','5':'jkl','6':'mno','7':'pqrs','8':'tuv','9':'wxyz',}\n",
    "\n",
    "Example 1:\n",
    "\n",
    "Input: digits = \"23\"\n",
    "\n",
    "Output: [\"ad\",\"ae\",\"af\",\"bd\",\"be\",\"bf\",\"cd\",\"ce\",\"cf\"]\n",
    "\n",
    "Example 2:\n",
    "\n",
    "Input: digits = \"\"\n",
    "\n",
    "Output: []\n",
    "\n",
    "Example 3:\n",
    "\n",
    "Input: digits = \"2\"\n",
    "\n",
    "Output: [\"a\",\"b\",\"c\"]\n",
    " \n",
    "\n",
    "Constraints:\n",
    "\n",
    "0 <= digits.length <= 4\n",
    "\n",
    "digits[i] is a digit in the range ['2', '9']."
   ]
  },
  {
   "cell_type": "code",
   "execution_count": 18,
   "id": "b1d64be5-4f89-49c1-8afa-a9eb94b148d0",
   "metadata": {},
   "outputs": [],
   "source": [
    "from itertools import product"
   ]
  },
  {
   "cell_type": "code",
   "execution_count": 19,
   "id": "bb0d0026-1256-4121-bbdf-8b6f27f42802",
   "metadata": {},
   "outputs": [],
   "source": [
    "class Solution:\n",
    "    def letter_combinations(self, digits:str) -> list:\n",
    "        phone = {\n",
    "            '2':'abc','3':'def','4':'ghi','5':'jkl','6':'mno','7':'pqrs','8':'tuv','9':'wxyz',}\n",
    "        if digits == \"\":\n",
    "            return []\n",
    "        tmp_list = []\n",
    "        for digit in digits:\n",
    "            tmp_list.append([letter for letter in phone[digit]])\n",
    "        return [\"\".join(combination) for combination in product(*tmp_list)]"
   ]
  },
  {
   "cell_type": "code",
   "execution_count": 20,
   "id": "e2a6e9f3-629b-47a7-a00b-9048f3a781cf",
   "metadata": {},
   "outputs": [
    {
     "data": {
      "text/plain": [
       "(['a', 'b', 'c'],\n",
       " ['ap', 'aq', 'ar', 'as', 'bp', 'bq', 'br', 'bs', 'cp', 'cq', 'cr', 'cs'])"
      ]
     },
     "execution_count": 20,
     "metadata": {},
     "output_type": "execute_result"
    }
   ],
   "source": [
    "sol = Solution()\n",
    "sol.letter_combinations(\"2\"), sol.letter_combinations(\"27\")"
   ]
  },
  {
   "cell_type": "markdown",
   "id": "cdd02c82-ba08-42d0-ba35-efefef5c2aeb",
   "metadata": {},
   "source": [
    "# Remove element\n",
    "# EZ3\n",
    "\n",
    "Given an integer array nums and an integer val, remove all occurrences of val in nums in-place. The order of the elements may be changed. Then return the number of elements in nums which are not equal to val.\n",
    "\n",
    "Consider the number of elements in nums which are not equal to val be k, to get accepted, you need to do the following things\n",
    "* Change the array nums such that the first k elements of nums contain the elements which are not equal to val. The remaining elements of nums are not important as well as the size of nums.\n",
    "* Return k.\n",
    "\n",
    "Example 1:\n",
    "\n",
    "Input: nums = [3,2,2,3], val = 3\n",
    "\n",
    "Output: 2, nums = [2,2,_,_]\n",
    "\n",
    "Explanation: Your function should return k = 2, with the first two elements of nums being 2.\n",
    "It does not matter what you leave beyond the returned k (hence they are underscores).\n",
    "\n",
    "Example 2:\n",
    "\n",
    "Input: nums = [0,1,2,2,3,0,4,2], val = 2\n",
    "\n",
    "Output: 5, nums = [0,1,4,0,3,_,_,_]\n",
    "\n",
    "Explanation: Your function should return k = 5, with the first five elements of nums containing 0, 0, 1, 3, and 4.\n",
    "Note that the five elements can be returned in any order.\n",
    "It does not matter what you leave beyond the returned k (hence they are underscores).\n",
    "\n",
    "Constraints:\n",
    "\n",
    "0 <= nums.length <= 100\n",
    "\n",
    "0 <= nums[i] <= 50\n",
    "\n",
    "0 <= val <= 100"
   ]
  },
  {
   "cell_type": "code",
   "execution_count": 21,
   "id": "56b1a391-b409-4afc-b054-40e40e3916f2",
   "metadata": {},
   "outputs": [],
   "source": [
    "class Solution:\n",
    "    def remove_value(self, value_to_remove, nums):\n",
    "        counter = 0\n",
    "        for i in range(len(nums)):\n",
    "            if nums[i] == value_to_remove:\n",
    "                counter += 1\n",
    "                nums[i] = None\n",
    "        return len(nums) - counter, nums"
   ]
  },
  {
   "cell_type": "code",
   "execution_count": 22,
   "id": "4bc0762e-9bd8-4797-900f-12a608d1d14a",
   "metadata": {},
   "outputs": [
    {
     "data": {
      "text/plain": [
       "(5, [0, 1, None, None, 3, 0, 4, None])"
      ]
     },
     "execution_count": 22,
     "metadata": {},
     "output_type": "execute_result"
    }
   ],
   "source": [
    "arr = [0,1,2,2,3,0,4,2]\n",
    "val = 2\n",
    "\n",
    "sol = Solution()\n",
    "sol.remove_value(val, arr)"
   ]
  },
  {
   "cell_type": "code",
   "execution_count": null,
   "id": "6d9e1a1e-25ba-4025-822f-f11de744dfdf",
   "metadata": {},
   "outputs": [],
   "source": []
  }
 ],
 "metadata": {
  "kernelspec": {
   "display_name": "Python 3 (ipykernel)",
   "language": "python",
   "name": "python3"
  },
  "language_info": {
   "codemirror_mode": {
    "name": "ipython",
    "version": 3
   },
   "file_extension": ".py",
   "mimetype": "text/x-python",
   "name": "python",
   "nbconvert_exporter": "python",
   "pygments_lexer": "ipython3",
   "version": "3.11.6"
  }
 },
 "nbformat": 4,
 "nbformat_minor": 5
}
