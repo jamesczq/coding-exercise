{
 "cells": [
  {
   "cell_type": "code",
   "execution_count": 1,
   "id": "75a96686",
   "metadata": {},
   "outputs": [],
   "source": [
    "from typing import List\n",
    "import numpy as np"
   ]
  },
  {
   "cell_type": "code",
   "execution_count": 2,
   "id": "66748679",
   "metadata": {},
   "outputs": [
    {
     "data": {
      "text/plain": [
       "array([-15,  -1,  -8,  -5,  14])"
      ]
     },
     "execution_count": 2,
     "metadata": {},
     "output_type": "execute_result"
    }
   ],
   "source": [
    "arr = np.random.randint(-20, 20, 5)\n",
    "arr"
   ]
  },
  {
   "cell_type": "code",
   "execution_count": 3,
   "id": "ad177d10",
   "metadata": {},
   "outputs": [],
   "source": [
    "def selection_sort(arr:List[int]) -> List[int]:\n",
    "    for outer in range(len(arr)):\n",
    "        min_index = outer\n",
    "        for inner in range(outer + 1, len(arr)):\n",
    "            if arr[inner] < arr[min_index]:\n",
    "                min_index = inner\n",
    "        arr[outer], arr[min_index] = arr[min_index], arr[outer]\n",
    "    return arr"
   ]
  },
  {
   "cell_type": "code",
   "execution_count": 4,
   "id": "9eba6324",
   "metadata": {},
   "outputs": [
    {
     "data": {
      "text/plain": [
       "array([-15,  -8,  -5,  -1,  14])"
      ]
     },
     "execution_count": 4,
     "metadata": {},
     "output_type": "execute_result"
    }
   ],
   "source": [
    "selection_sort(arr)"
   ]
  }
 ],
 "metadata": {
  "kernelspec": {
   "display_name": "Python 3 (ipykernel)",
   "language": "python",
   "name": "python3"
  },
  "language_info": {
   "codemirror_mode": {
    "name": "ipython",
    "version": 3
   },
   "file_extension": ".py",
   "mimetype": "text/x-python",
   "name": "python",
   "nbconvert_exporter": "python",
   "pygments_lexer": "ipython3",
   "version": "3.10.9"
  }
 },
 "nbformat": 4,
 "nbformat_minor": 5
}
